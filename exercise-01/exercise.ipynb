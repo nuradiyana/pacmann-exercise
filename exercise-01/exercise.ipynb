{
 "cells": [
  {
   "cell_type": "markdown",
   "id": "1ba82d7d-e5b9-4972-9f06-9a8b08d1038d",
   "metadata": {},
   "source": [
    "**Calculate Average Session**"
   ]
  },
  {
   "cell_type": "markdown",
   "id": "ebdb1820-a36d-457b-a207-6135fcf674a1",
   "metadata": {},
   "source": [
    "**Flowchart**"
   ]
  },
  {
   "cell_type": "markdown",
   "id": "54329418a3387f83",
   "metadata": {
    "collapsed": false,
    "jupyter": {
     "outputs_hidden": false
    }
   },
   "source": [
    "Flowchart bisa di lihat [disni](https://raw.githubusercontent.com/nuradiyana/pacmann-exercise/main/exercise-01/01-calculate-average-session.png)"
   ]
  },
  {
   "cell_type": "markdown",
   "id": "a85df671-8a33-4c65-b5ce-73f67f4b6464",
   "metadata": {},
   "source": [
    "**Code**"
   ]
  },
  {
   "cell_type": "code",
   "execution_count": 2,
   "id": "4483ad1c-4bd7-491c-990a-1a156d99ed44",
   "metadata": {},
   "outputs": [
    {
     "name": "stdin",
     "output_type": "stream",
     "text": [
      "Enter load time in minutes [1/3] :  12\n",
      "Enter exit time in minutes [1/3] :  24\n"
     ]
    },
    {
     "name": "stdout",
     "output_type": "stream",
     "text": [
      "----------------------------------------\n"
     ]
    },
    {
     "name": "stdin",
     "output_type": "stream",
     "text": [
      "Enter load time in minutes [2/3] :  24\n",
      "Enter exit time in minutes [2/3] :  34\n"
     ]
    },
    {
     "name": "stdout",
     "output_type": "stream",
     "text": [
      "----------------------------------------\n"
     ]
    },
    {
     "name": "stdin",
     "output_type": "stream",
     "text": [
      "Enter load time in minutes [3/3] :  34\n",
      "Enter exit time in minutes [3/3] :  45\n"
     ]
    },
    {
     "name": "stdout",
     "output_type": "stream",
     "text": [
      "----------------------------------------\n",
      "Session 1 Duration (in minutes): 12.0\n",
      "Session 2 Duration (in minutes): 10.0\n",
      "Session 3 Duration (in minutes): 11.0\n",
      "Average Session Duration (in minutes): 11.0\n"
     ]
    }
   ],
   "source": [
    "count_of_data = 3\n",
    "\n",
    "\n",
    "def calculate_session_time(load_time_value, exit_time_value) -> float:\n",
    "    \"\"\" Returns session time in minutes. \"\"\"\n",
    "    return round(exit_time_value - load_time_value, 2)\n",
    "\n",
    "\n",
    "def is_invalid_number(value) -> bool:\n",
    "    \"\"\" Returns True if string is a number. \"\"\"\n",
    "    try:\n",
    "        return float(value) < 0\n",
    "    except ValueError:\n",
    "        return True\n",
    "\n",
    "\n",
    "inputs = []\n",
    "session_times = []\n",
    "\n",
    "for i in range(count_of_data):\n",
    "    load_time = input(f\"Enter load time in minutes [{i + 1}/{count_of_data}] : \")\n",
    "\n",
    "    if is_invalid_number(load_time):\n",
    "        print(\"Not a valid input, please input number only\")\n",
    "        exit(1)\n",
    "\n",
    "    exit_time = input(f\"Enter exit time in minutes [{i + 1}/{count_of_data}] : \")\n",
    "    print(\"-\" * 40)\n",
    "\n",
    "    if is_invalid_number(exit_time):\n",
    "        print(\"Not a valid input, please input number only\")\n",
    "        exit(1)\n",
    "\n",
    "    inputs.append((float(load_time), float(exit_time)))\n",
    "\n",
    "for index, (load_time, exit_time) in enumerate(inputs):\n",
    "    session_time = calculate_session_time(load_time, exit_time)\n",
    "\n",
    "    print(f\"Session {index + 1} Duration (in minutes): {session_time}\")\n",
    "    session_times.append(session_time)\n",
    "\n",
    "average = round(sum(session_times) / len(session_times), 2)\n",
    "print(f\"Average Session Duration (in minutes): {average}\")"
   ]
  },
  {
   "cell_type": "markdown",
   "id": "6114efed-d5f1-4898-a79b-45a94406fadd",
   "metadata": {},
   "source": [
    "**Temperature Converter**"
   ]
  },
  {
   "cell_type": "markdown",
   "id": "4599003f-e273-47d5-882c-b20bbf97d187",
   "metadata": {},
   "source": [
    "**Flowchart**"
   ]
  },
  {
   "cell_type": "markdown",
   "id": "f4cbe2c2-54de-4d89-9edb-66a8acfa2dce",
   "metadata": {},
   "source": [
    "Flowchart bisa di lihat [disini](https://raw.githubusercontent.com/nuradiyana/pacmann-exercise/main/exercise-01/02-temperature-converter.png)"
   ]
  },
  {
   "cell_type": "markdown",
   "id": "4575c62e-4f47-47ea-9d17-663f18a3b9a1",
   "metadata": {},
   "source": [
    "**Code**"
   ]
  },
  {
   "cell_type": "code",
   "execution_count": 3,
   "id": "c274db3e-01e5-4824-9710-fe2c2d440a20",
   "metadata": {},
   "outputs": [
    {
     "name": "stdin",
     "output_type": "stream",
     "text": [
      "Masukan nilai temperatur :  12\n",
      "Ubah dari (valid value : Celsius, Fahrenheit, Kelvin) :  Kelvin\n",
      "Ubah dari (valid value : Celsius, Fahrenheit, Kelvin) :  Celcius\n"
     ]
    },
    {
     "name": "stdout",
     "output_type": "stream",
     "text": [
      "Not a valid input, valid value is Celsius, Fahrenheit, Kelvin\n",
      "------------------------------------------------------------\n",
      "12.0 kelvin is equal to 12.0 celcius\n"
     ]
    }
   ],
   "source": [
    "def is_invalid_number(value) -> bool:\n",
    "    \"\"\" Returns True if string is a number. \"\"\"\n",
    "    try:\n",
    "        return float(value) < 0\n",
    "    except ValueError:\n",
    "        return True\n",
    "\n",
    "\n",
    "def is_valid_temperature(value) -> bool:\n",
    "    \"\"\" Returns True if string is a valid temperature. \"\"\"\n",
    "    temperatures = {'celsius', 'fahrenheit', 'kelvin'}\n",
    "\n",
    "    return value.lower() in temperatures\n",
    "\n",
    "\n",
    "def celsius_to_fahrenheit(celsius: float) -> float:\n",
    "    \"\"\" Converts celsius to fahrenheit. \"\"\"\n",
    "    return (9 / 5 * celsius) + 32\n",
    "\n",
    "\n",
    "def fahrenheit_to_celsius(fahrenheit: float) -> float:\n",
    "    \"\"\" Converts fahrenheit to celsius. \"\"\"\n",
    "    return 5 / 9 * (fahrenheit - 32)\n",
    "\n",
    "\n",
    "def celsius_to_kelvin(celsius: float) -> float:\n",
    "    \"\"\" Converts celsius to kelvin. \"\"\"\n",
    "    return celsius + 273.15\n",
    "\n",
    "\n",
    "def kelvin_to_celsius(kelvin: float) -> float:\n",
    "    \"\"\" Converts kelvin to celsius. \"\"\"\n",
    "    return kelvin - 273.15\n",
    "\n",
    "\n",
    "def kelvin_to_fahrenheit(kelvin: float) -> float:\n",
    "    \"\"\" Converts kelvin to fahrenheit. \"\"\"\n",
    "    return kelvin * 9 / 5 - 459.67\n",
    "\n",
    "\n",
    "def fahrenheit_to_kelvin(fahrenheit: float) -> float:\n",
    "    \"\"\" Converts fahrenheit to kelvin. \"\"\"\n",
    "    return (fahrenheit + 459.67) * 5 / 9\n",
    "\n",
    "\n",
    "temperature_input = input(\"Masukan nilai temperatur : \")\n",
    "if is_invalid_number(temperature_input):\n",
    "    print(\"Not a valid input, please input number only\")\n",
    "    exit(1)\n",
    "\n",
    "from_unit_input = input(\"Ubah dari (valid value : Celsius, Fahrenheit, Kelvin) : \")\n",
    "if not is_valid_temperature(from_unit_input):\n",
    "    print(\"Not a valid input, valid value is Celsius, Fahrenheit, Kelvin\")\n",
    "    exit(1)\n",
    "\n",
    "to_unit_input = input(\"Ubah ke (valid value : Celsius, Fahrenheit, Kelvin) : \")\n",
    "if not is_valid_temperature(to_unit_input):\n",
    "    print(\"Not a valid input, valid value is Celsius, Fahrenheit, Kelvin\")\n",
    "    exit(1)\n",
    "\n",
    "print(\"-\" * 60)\n",
    "\n",
    "temperature = float(temperature_input)\n",
    "from_unit = from_unit_input.lower()\n",
    "to_unit = to_unit_input.lower()\n",
    "\n",
    "converted_temperature = temperature\n",
    "\n",
    "if from_unit == 'celsius' and to_unit == 'fahrenheit':\n",
    "    converted_temperature = celsius_to_fahrenheit(temperature)\n",
    "elif from_unit == 'celsius' and to_unit == 'kelvin':\n",
    "    converted_temperature = celsius_to_kelvin(temperature)\n",
    "elif from_unit == 'fahrenheit' and to_unit == 'celsius':\n",
    "    converted_temperature = fahrenheit_to_celsius(temperature)\n",
    "elif from_unit == 'fahrenheit' and to_unit == 'kelvin':\n",
    "    converted_temperature = fahrenheit_to_kelvin(temperature)\n",
    "elif from_unit == 'kelvin' and to_unit == 'celsius':\n",
    "    converted_temperature = kelvin_to_celsius(temperature)\n",
    "elif from_unit == 'kelvin' and to_unit == 'fahrenheit':\n",
    "    converted_temperature = kelvin_to_fahrenheit(temperature)\n",
    "\n",
    "print(f\"{temperature} {from_unit} is equal to {converted_temperature} {to_unit}\")"
   ]
  },
  {
   "cell_type": "markdown",
   "id": "01418e28-7574-45a0-af04-be7227eee9bc",
   "metadata": {},
   "source": [
    "**Nomor Induk Kependudukan (NIK) Extraction**"
   ]
  },
  {
   "cell_type": "markdown",
   "id": "e13af67b-6b38-4283-a11b-67d58e653ef7",
   "metadata": {},
   "source": [
    "**Flowchart**"
   ]
  },
  {
   "cell_type": "markdown",
   "id": "c634377e-9619-4fb2-aacd-b6a5d0417769",
   "metadata": {},
   "source": [
    "Flowchart bisa di lihat [disini](https://raw.githubusercontent.com/nuradiyana/pacmann-exercise/main/exercise-01/03-nik-extraction.png)"
   ]
  },
  {
   "cell_type": "markdown",
   "id": "ae1b0d0c-d274-4165-b131-5a874422707d",
   "metadata": {},
   "source": [
    "**Code**"
   ]
  },
  {
   "cell_type": "code",
   "execution_count": 6,
   "id": "48a2a838-3d45-41b8-9ae8-b36011612f51",
   "metadata": {},
   "outputs": [
    {
     "name": "stdout",
     "output_type": "stream",
     "text": [
      "- NIK 1 : 1571011709860003\n",
      "- NIK 2 : 2404075109910009\n",
      "------------------------------\n",
      "Date of Birth\n",
      "- NIK 1 : 17-09-86\n",
      "- NIK 2 : 11-09-91\n",
      "------------------------------\n",
      "Gender\n",
      "- NIK 1 : Male\n",
      "- NIK 2 : Female\n",
      "------------------------------\n",
      "Do they have similar gender?\n",
      "No\n",
      "------------------------------\n",
      "Do they have similar month of birth?\n",
      "Yes, it is on September\n",
      "------------------------------\n"
     ]
    }
   ],
   "source": [
    "nik_1 = 1571011709860003\n",
    "nik_2 = 2404075109910009\n",
    "\n",
    "\n",
    "def remove_region_from_nik(value):\n",
    "    nik = str(value)\n",
    "\n",
    "    return nik[6:len(nik)]\n",
    "\n",
    "\n",
    "def extract_birth_date_from_nik(value):\n",
    "    date = value[0:2]\n",
    "\n",
    "    if int(date) >= 41:\n",
    "        return f\"{int(date) - 40}-{value[2:4]}-{value[4:6]}\"\n",
    "\n",
    "    return f\"{date}-{value[2:4]}-{value[4:6]}\"\n",
    "\n",
    "\n",
    "def get_month(month):\n",
    "    if 1 < month > 12:\n",
    "        return \"Invalid month number\"\n",
    "\n",
    "    months = {\n",
    "        1: \"Januari\",\n",
    "        2: \"Februari\",\n",
    "        3: \"Maret\",\n",
    "        4: \"April\",\n",
    "        5: \"Mei\",\n",
    "        6: \"Juni\",\n",
    "        7: \"Juli\",\n",
    "        8: \"Agustus\",\n",
    "        9: \"September\",\n",
    "        10: \"Oktober\",\n",
    "        11: \"November\",\n",
    "        12: \"Desember\"\n",
    "    }\n",
    "\n",
    "    return months[month]\n",
    "\n",
    "\n",
    "def is_male(value):\n",
    "    try:\n",
    "        date = int(value)\n",
    "\n",
    "        if 1 <= date <= 31:\n",
    "            return True\n",
    "    except ValueError:\n",
    "        print('Invalid birth date')\n",
    "        exit(1)\n",
    "\n",
    "\n",
    "def is_female(value):\n",
    "    try:\n",
    "        date = int(value)\n",
    "\n",
    "        if 41 <= date <= 71:\n",
    "            return True\n",
    "    except ValueError:\n",
    "        print('Invalid birth date')\n",
    "        exit(1)\n",
    "\n",
    "\n",
    "def get_gender(value):\n",
    "    if is_male(value):\n",
    "        return 'Male'\n",
    "    elif is_female(value):\n",
    "        return 'Female'\n",
    "    else:\n",
    "        return 'Invalid gender'\n",
    "\n",
    "\n",
    "print(f\"- NIK 1 : {nik_1}\")\n",
    "print(f\"- NIK 2 : {nik_2}\")\n",
    "print(\"-\" * 30)\n",
    "\n",
    "nik_1_without_region = remove_region_from_nik(nik_1)\n",
    "nik_2_without_region = remove_region_from_nik(nik_2)\n",
    "\n",
    "full_birth_date_1 = extract_birth_date_from_nik(nik_1_without_region)\n",
    "full_birth_date_2 = extract_birth_date_from_nik(nik_2_without_region)\n",
    "\n",
    "print(\"Date of Birth\")\n",
    "print(f\"- NIK 1 : {full_birth_date_1}\")\n",
    "print(f\"- NIK 2 : {full_birth_date_2}\")\n",
    "print(\"-\" * 30)\n",
    "\n",
    "print(\"Gender\")\n",
    "print(f\"- NIK 1 : {get_gender(nik_1_without_region[0:2])}\")\n",
    "print(f\"- NIK 2 : {get_gender(nik_2_without_region[0:2])}\")\n",
    "print(\"-\" * 30)\n",
    "\n",
    "gender_1 = get_gender(nik_1_without_region[0:2])\n",
    "gender_2 = get_gender(nik_2_without_region[0:2])\n",
    "same_gender = \"Yes\" if gender_1 == gender_2 else \"No\"\n",
    "print(\"Do they have similar gender?\")\n",
    "print(f\"{same_gender}\")\n",
    "print(\"-\" * 30)\n",
    "\n",
    "month_1 = full_birth_date_1[3:5]\n",
    "month_2 = full_birth_date_2[3:5]\n",
    "\n",
    "print(\"Do they have similar month of birth?\")\n",
    "if month_1 == month_2:\n",
    "    print(f\"Yes, it is on {get_month(int(month_1))}\")\n",
    "else:\n",
    "    print(f\"No, NIK 1 is on {get_month(int(month_1))} and NIK 2 is on {get_month(int(month_2))}\")\n",
    "\n",
    "print(\"-\" * 30)"
   ]
  },
  {
   "cell_type": "markdown",
   "id": "c7fdfa65-c0a9-4c5d-a96b-aee26ed4cd00",
   "metadata": {},
   "source": [
    "**Calculate Pajak Penghasilan (Simplified)**"
   ]
  },
  {
   "cell_type": "markdown",
   "id": "3ff68ea0-6a3d-4e7a-aea7-ce8c639b523f",
   "metadata": {},
   "source": [
    "**Flowchart**"
   ]
  },
  {
   "cell_type": "markdown",
   "id": "1ac0e63d-4dde-48ec-a050-50a78ed8d051",
   "metadata": {},
   "source": [
    "Flowchart bisa di lihat [disini](https://raw.githubusercontent.com/nuradiyana/pacmann-exercise/main/exercise-01/04-idn-tax-caculation.png)"
   ]
  },
  {
   "cell_type": "markdown",
   "id": "3b9cc3c7-2cde-4b65-a284-1285333c860d",
   "metadata": {},
   "source": [
    "**Code**"
   ]
  },
  {
   "cell_type": "code",
   "execution_count": 2,
   "id": "f1b4bb66-6b0e-43a6-ab66-58bbdf4626d8",
   "metadata": {},
   "outputs": [
    {
     "name": "stdin",
     "output_type": "stream",
     "text": [
      "Masukan nilai penghasilan satu bulan :  10000000\n",
      "Masukan status pernikahan, valid : married, single :  single\n",
      "Masukan jumlah tanggungan :  12\n"
     ]
    },
    {
     "name": "stdout",
     "output_type": "stream",
     "text": [
      "--------------------------------------------------\n",
      "\n",
      "\n",
      "Penghasilan neto setahun:\n",
      "120000000\n",
      "\n",
      "\n",
      "PTKP TK/0:\n",
      "54000000\n",
      "\n",
      "\n",
      "Penghasilan Kena Pajak:\n",
      "66000000\n",
      "\n",
      "\n",
      "PPh 21 terutang setahun:\n",
      "9900000.0\n"
     ]
    }
   ],
   "source": [
    "def yearly_income(income) -> int:\n",
    "    return int(income) * 12\n",
    "\n",
    "\n",
    "def base_income_for_tax(status, dependency) -> int:\n",
    "    PTKP = 54_000_000\n",
    "\n",
    "    if status == 'single':\n",
    "        return PTKP\n",
    "\n",
    "    if int(dependency) == 0:\n",
    "        return PTKP + 4_500_000\n",
    "    elif int(dependency) == 1:\n",
    "        return PTKP + (4_500_000 * 2)\n",
    "    elif int(dependency) == 2:\n",
    "        return PTKP + (4_500_000 * 3)\n",
    "    else:\n",
    "        return PTKP + (4_500_000 * 4)\n",
    "\n",
    "\n",
    "def calculate_tax(amount_for_tax) -> int:\n",
    "    if amount_for_tax <= 60_000_000:\n",
    "        return amount_for_tax * 0.05\n",
    "    elif 60_000_000 < amount_for_tax <= 250_000_000:\n",
    "        return amount_for_tax * 0.15\n",
    "    elif 250_000_000 < amount_for_tax <= 500_000_000:\n",
    "        return amount_for_tax * 0.25\n",
    "    elif 500_000_000 < amount_for_tax <= 5_000_000_000:\n",
    "        return amount_for_tax * 0.30\n",
    "    else:\n",
    "        return amount_for_tax * 0.35\n",
    "\n",
    "\n",
    "def is_valid_number(value) -> bool:\n",
    "    \"\"\" Returns True if string is a number. \"\"\"\n",
    "    try:\n",
    "        return int(value) > 0\n",
    "    except ValueError:\n",
    "        return True\n",
    "\n",
    "\n",
    "def is_valid_status(value) -> bool:\n",
    "    \"\"\" Returns True if is valid status. \"\"\"\n",
    "    try:\n",
    "        return value == 'single' or value == 'married'\n",
    "    except ValueError:\n",
    "        return True\n",
    "\n",
    "\n",
    "monthly_income = input(\"Masukan nilai penghasilan satu bulan : \")\n",
    "if not is_valid_number(monthly_income):\n",
    "    print(\"Not a valid input, please input number only\")\n",
    "    exit(1)\n",
    "\n",
    "marital_status = input(\"Masukan status pernikahan, valid : married, single : \")\n",
    "if not is_valid_status(marital_status):\n",
    "    print(\"Not a valid input, please input only married or single\")\n",
    "    exit(1)\n",
    "\n",
    "n_dependencies = input(\"Masukan jumlah tanggungan : \")\n",
    "if not is_valid_number(monthly_income):\n",
    "    print(\"Not a valid input, please input number only\")\n",
    "    exit(1)\n",
    "\n",
    "print(\"-\" * 50)\n",
    "print(\"\\n\")\n",
    "\n",
    "yearly_income = yearly_income(monthly_income)\n",
    "print(\"Penghasilan neto setahun:\")\n",
    "print(yearly_income)\n",
    "print(\"\\n\")\n",
    "\n",
    "ptkp = base_income_for_tax(marital_status, n_dependencies)\n",
    "dependencies = n_dependencies if int(n_dependencies) <= 3 else 3\n",
    "print(f\"PTKP TK/{0 if marital_status == 'single' else dependencies}:\")\n",
    "print(ptkp)\n",
    "print(\"\\n\")\n",
    "\n",
    "income_for_tax = 0 if ptkp >= yearly_income else yearly_income - ptkp\n",
    "print(\"Penghasilan Kena Pajak:\")\n",
    "print(income_for_tax)\n",
    "print(\"\\n\")\n",
    "\n",
    "tax_amount = calculate_tax(income_for_tax)\n",
    "print(\"PPh 21 terutang setahun:\")\n",
    "print(tax_amount)"
   ]
  }
 ],
 "metadata": {
  "kernelspec": {
   "display_name": "Python 3 (ipykernel)",
   "language": "python",
   "name": "python3"
  },
  "language_info": {
   "codemirror_mode": {
    "name": "ipython",
    "version": 3
   },
   "file_extension": ".py",
   "mimetype": "text/x-python",
   "name": "python",
   "nbconvert_exporter": "python",
   "pygments_lexer": "ipython3",
   "version": "3.9.6"
  }
 },
 "nbformat": 4,
 "nbformat_minor": 5
}
